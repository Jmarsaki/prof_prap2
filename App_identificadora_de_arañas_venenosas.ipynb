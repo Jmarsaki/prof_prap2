{
  "nbformat": 4,
  "nbformat_minor": 0,
  "metadata": {
    "colab": {
      "provenance": [],
      "authorship_tag": "ABX9TyOx8XEv3ctNDozAfH4u1cmQ",
      "include_colab_link": true
    },
    "kernelspec": {
      "name": "python3",
      "display_name": "Python 3"
    },
    "language_info": {
      "name": "python"
    }
  },
  "cells": [
    {
      "cell_type": "markdown",
      "metadata": {
        "id": "view-in-github",
        "colab_type": "text"
      },
      "source": [
        "<a href=\"https://colab.research.google.com/github/Jmarsaki/prof_prap2/blob/main/App_identificadora_de_ara%C3%B1as_venenosas.ipynb\" target=\"_parent\"><img src=\"https://colab.research.google.com/assets/colab-badge.svg\" alt=\"Open In Colab\"/></a>"
      ]
    },
    {
      "cell_type": "markdown",
      "source": [
        "##Aplicación para identificación de arañas venenosas"
      ],
      "metadata": {
        "id": "ZOf-tuer3vzl"
      }
    },
    {
      "cell_type": "markdown",
      "source": [
        "##![0.jpg](data:image/jpeg;base64,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)"
      ],
      "metadata": {
        "id": "lJJOzTum27Yw"
      }
    },
    {
      "cell_type": "markdown",
      "source": [
        "De las 750 especies de arañas que existen en Argentina, hay tres que representan interés sanitario debido a la peligrosidad de su veneno. Se trata de las especies loxosceles (conocida como araña de los cuadros o de los rincones o violinista), la latrodectus (viuda negra) y la phoneutria (araña del banano o armadeira), de incidencia menos frecuente en el territorio nacional. Tal como han advertido los especialistas, cada variedad de estos arácnidos presenta diferentes características respecto de los sitios donde habitan y sus picaduras demuestran señales disímiles, con afectaciones diferentes sobre el organismo.\n",
        "Debido a este hecho, es util la realización de una aplicación que instalada en un dispositivo movil con cámara, pueda identificar al menos estos tres especímenes."
      ],
      "metadata": {
        "id": "F0JbybSD14zt"
      }
    },
    {
      "cell_type": "markdown",
      "source": [
        "#Aplicación de filtro Gaussiano\n",
        "\n"
      ],
      "metadata": {
        "id": "T2gaOPgiAYZJ"
      }
    },
    {
      "cell_type": "markdown",
      "source": [
        "#Preprocesamiento de imágenes"
      ],
      "metadata": {
        "id": "8W9UKuP_CYIn"
      }
    },
    {
      "cell_type": "code",
      "execution_count": 3,
      "metadata": {
        "id": "Yp8tuPqYlspU",
        "colab": {
          "base_uri": "https://localhost:8080/",
          "height": 430
        },
        "outputId": "28b7a8c4-e21d-4b94-d43c-b9359d8c01a9"
      },
      "outputs": [
        {
          "output_type": "display_data",
          "data": {
            "text/plain": [
              "<IPython.core.display.HTML object>"
            ],
            "text/html": [
              "\n",
              "     <input type=\"file\" id=\"files-190c2628-7447-49b9-985d-a266fb8a6fd9\" name=\"files[]\" multiple disabled\n",
              "        style=\"border:none\" />\n",
              "     <output id=\"result-190c2628-7447-49b9-985d-a266fb8a6fd9\">\n",
              "      Upload widget is only available when the cell has been executed in the\n",
              "      current browser session. Please rerun this cell to enable.\n",
              "      </output>\n",
              "      <script>// Copyright 2017 Google LLC\n",
              "//\n",
              "// Licensed under the Apache License, Version 2.0 (the \"License\");\n",
              "// you may not use this file except in compliance with the License.\n",
              "// You may obtain a copy of the License at\n",
              "//\n",
              "//      http://www.apache.org/licenses/LICENSE-2.0\n",
              "//\n",
              "// Unless required by applicable law or agreed to in writing, software\n",
              "// distributed under the License is distributed on an \"AS IS\" BASIS,\n",
              "// WITHOUT WARRANTIES OR CONDITIONS OF ANY KIND, either express or implied.\n",
              "// See the License for the specific language governing permissions and\n",
              "// limitations under the License.\n",
              "\n",
              "/**\n",
              " * @fileoverview Helpers for google.colab Python module.\n",
              " */\n",
              "(function(scope) {\n",
              "function span(text, styleAttributes = {}) {\n",
              "  const element = document.createElement('span');\n",
              "  element.textContent = text;\n",
              "  for (const key of Object.keys(styleAttributes)) {\n",
              "    element.style[key] = styleAttributes[key];\n",
              "  }\n",
              "  return element;\n",
              "}\n",
              "\n",
              "// Max number of bytes which will be uploaded at a time.\n",
              "const MAX_PAYLOAD_SIZE = 100 * 1024;\n",
              "\n",
              "function _uploadFiles(inputId, outputId) {\n",
              "  const steps = uploadFilesStep(inputId, outputId);\n",
              "  const outputElement = document.getElementById(outputId);\n",
              "  // Cache steps on the outputElement to make it available for the next call\n",
              "  // to uploadFilesContinue from Python.\n",
              "  outputElement.steps = steps;\n",
              "\n",
              "  return _uploadFilesContinue(outputId);\n",
              "}\n",
              "\n",
              "// This is roughly an async generator (not supported in the browser yet),\n",
              "// where there are multiple asynchronous steps and the Python side is going\n",
              "// to poll for completion of each step.\n",
              "// This uses a Promise to block the python side on completion of each step,\n",
              "// then passes the result of the previous step as the input to the next step.\n",
              "function _uploadFilesContinue(outputId) {\n",
              "  const outputElement = document.getElementById(outputId);\n",
              "  const steps = outputElement.steps;\n",
              "\n",
              "  const next = steps.next(outputElement.lastPromiseValue);\n",
              "  return Promise.resolve(next.value.promise).then((value) => {\n",
              "    // Cache the last promise value to make it available to the next\n",
              "    // step of the generator.\n",
              "    outputElement.lastPromiseValue = value;\n",
              "    return next.value.response;\n",
              "  });\n",
              "}\n",
              "\n",
              "/**\n",
              " * Generator function which is called between each async step of the upload\n",
              " * process.\n",
              " * @param {string} inputId Element ID of the input file picker element.\n",
              " * @param {string} outputId Element ID of the output display.\n",
              " * @return {!Iterable<!Object>} Iterable of next steps.\n",
              " */\n",
              "function* uploadFilesStep(inputId, outputId) {\n",
              "  const inputElement = document.getElementById(inputId);\n",
              "  inputElement.disabled = false;\n",
              "\n",
              "  const outputElement = document.getElementById(outputId);\n",
              "  outputElement.innerHTML = '';\n",
              "\n",
              "  const pickedPromise = new Promise((resolve) => {\n",
              "    inputElement.addEventListener('change', (e) => {\n",
              "      resolve(e.target.files);\n",
              "    });\n",
              "  });\n",
              "\n",
              "  const cancel = document.createElement('button');\n",
              "  inputElement.parentElement.appendChild(cancel);\n",
              "  cancel.textContent = 'Cancel upload';\n",
              "  const cancelPromise = new Promise((resolve) => {\n",
              "    cancel.onclick = () => {\n",
              "      resolve(null);\n",
              "    };\n",
              "  });\n",
              "\n",
              "  // Wait for the user to pick the files.\n",
              "  const files = yield {\n",
              "    promise: Promise.race([pickedPromise, cancelPromise]),\n",
              "    response: {\n",
              "      action: 'starting',\n",
              "    }\n",
              "  };\n",
              "\n",
              "  cancel.remove();\n",
              "\n",
              "  // Disable the input element since further picks are not allowed.\n",
              "  inputElement.disabled = true;\n",
              "\n",
              "  if (!files) {\n",
              "    return {\n",
              "      response: {\n",
              "        action: 'complete',\n",
              "      }\n",
              "    };\n",
              "  }\n",
              "\n",
              "  for (const file of files) {\n",
              "    const li = document.createElement('li');\n",
              "    li.append(span(file.name, {fontWeight: 'bold'}));\n",
              "    li.append(span(\n",
              "        `(${file.type || 'n/a'}) - ${file.size} bytes, ` +\n",
              "        `last modified: ${\n",
              "            file.lastModifiedDate ? file.lastModifiedDate.toLocaleDateString() :\n",
              "                                    'n/a'} - `));\n",
              "    const percent = span('0% done');\n",
              "    li.appendChild(percent);\n",
              "\n",
              "    outputElement.appendChild(li);\n",
              "\n",
              "    const fileDataPromise = new Promise((resolve) => {\n",
              "      const reader = new FileReader();\n",
              "      reader.onload = (e) => {\n",
              "        resolve(e.target.result);\n",
              "      };\n",
              "      reader.readAsArrayBuffer(file);\n",
              "    });\n",
              "    // Wait for the data to be ready.\n",
              "    let fileData = yield {\n",
              "      promise: fileDataPromise,\n",
              "      response: {\n",
              "        action: 'continue',\n",
              "      }\n",
              "    };\n",
              "\n",
              "    // Use a chunked sending to avoid message size limits. See b/62115660.\n",
              "    let position = 0;\n",
              "    do {\n",
              "      const length = Math.min(fileData.byteLength - position, MAX_PAYLOAD_SIZE);\n",
              "      const chunk = new Uint8Array(fileData, position, length);\n",
              "      position += length;\n",
              "\n",
              "      const base64 = btoa(String.fromCharCode.apply(null, chunk));\n",
              "      yield {\n",
              "        response: {\n",
              "          action: 'append',\n",
              "          file: file.name,\n",
              "          data: base64,\n",
              "        },\n",
              "      };\n",
              "\n",
              "      let percentDone = fileData.byteLength === 0 ?\n",
              "          100 :\n",
              "          Math.round((position / fileData.byteLength) * 100);\n",
              "      percent.textContent = `${percentDone}% done`;\n",
              "\n",
              "    } while (position < fileData.byteLength);\n",
              "  }\n",
              "\n",
              "  // All done.\n",
              "  yield {\n",
              "    response: {\n",
              "      action: 'complete',\n",
              "    }\n",
              "  };\n",
              "}\n",
              "\n",
              "scope.google = scope.google || {};\n",
              "scope.google.colab = scope.google.colab || {};\n",
              "scope.google.colab._files = {\n",
              "  _uploadFiles,\n",
              "  _uploadFilesContinue,\n",
              "};\n",
              "})(self);\n",
              "</script> "
            ]
          },
          "metadata": {}
        },
        {
          "output_type": "stream",
          "name": "stdout",
          "text": [
            "Saving arañas_venenosas.zip to arañas_venenosas (1).zip\n"
          ]
        },
        {
          "output_type": "error",
          "ename": "error",
          "evalue": "ignored",
          "traceback": [
            "\u001b[0;31m---------------------------------------------------------------------------\u001b[0m",
            "\u001b[0;31merror\u001b[0m                                     Traceback (most recent call last)",
            "\u001b[0;32m<ipython-input-3-0ed7716ad7db>\u001b[0m in \u001b[0;36m<cell line: 13>\u001b[0;34m()\u001b[0m\n\u001b[1;32m     11\u001b[0m \u001b[0;31m# Ejemplo de uso\u001b[0m\u001b[0;34m\u001b[0m\u001b[0;34m\u001b[0m\u001b[0m\n\u001b[1;32m     12\u001b[0m \u001b[0mimage\u001b[0m \u001b[0;34m=\u001b[0m \u001b[0mcv2\u001b[0m\u001b[0;34m.\u001b[0m\u001b[0mimread\u001b[0m\u001b[0;34m(\u001b[0m\u001b[0;34m'imagen.jpg'\u001b[0m\u001b[0;34m)\u001b[0m\u001b[0;34m\u001b[0m\u001b[0;34m\u001b[0m\u001b[0m\n\u001b[0;32m---> 13\u001b[0;31m \u001b[0mresized_image\u001b[0m \u001b[0;34m=\u001b[0m \u001b[0mresize_image\u001b[0m\u001b[0;34m(\u001b[0m\u001b[0mimage\u001b[0m\u001b[0;34m,\u001b[0m \u001b[0;36m800\u001b[0m\u001b[0;34m,\u001b[0m \u001b[0;36m600\u001b[0m\u001b[0;34m)\u001b[0m\u001b[0;34m\u001b[0m\u001b[0;34m\u001b[0m\u001b[0m\n\u001b[0m\u001b[1;32m     14\u001b[0m \u001b[0mcv2\u001b[0m\u001b[0;34m.\u001b[0m\u001b[0mimshow\u001b[0m\u001b[0;34m(\u001b[0m\u001b[0;34m'Resized Image'\u001b[0m\u001b[0;34m,\u001b[0m \u001b[0mresized_image\u001b[0m\u001b[0;34m)\u001b[0m\u001b[0;34m\u001b[0m\u001b[0;34m\u001b[0m\u001b[0m\n\u001b[1;32m     15\u001b[0m \u001b[0mcv2\u001b[0m\u001b[0;34m.\u001b[0m\u001b[0mwaitKey\u001b[0m\u001b[0;34m(\u001b[0m\u001b[0;36m0\u001b[0m\u001b[0;34m)\u001b[0m\u001b[0;34m\u001b[0m\u001b[0;34m\u001b[0m\u001b[0m\n",
            "\u001b[0;32m<ipython-input-3-0ed7716ad7db>\u001b[0m in \u001b[0;36mresize_image\u001b[0;34m(image, width, height)\u001b[0m\n\u001b[1;32m      6\u001b[0m \u001b[0;34m\u001b[0m\u001b[0m\n\u001b[1;32m      7\u001b[0m \u001b[0;32mdef\u001b[0m \u001b[0mresize_image\u001b[0m\u001b[0;34m(\u001b[0m\u001b[0mimage\u001b[0m\u001b[0;34m,\u001b[0m \u001b[0mwidth\u001b[0m\u001b[0;34m,\u001b[0m \u001b[0mheight\u001b[0m\u001b[0;34m)\u001b[0m\u001b[0;34m:\u001b[0m\u001b[0;34m\u001b[0m\u001b[0;34m\u001b[0m\u001b[0m\n\u001b[0;32m----> 8\u001b[0;31m     \u001b[0mresized_image\u001b[0m \u001b[0;34m=\u001b[0m \u001b[0mcv2\u001b[0m\u001b[0;34m.\u001b[0m\u001b[0mresize\u001b[0m\u001b[0;34m(\u001b[0m\u001b[0mimage\u001b[0m\u001b[0;34m,\u001b[0m \u001b[0;34m(\u001b[0m\u001b[0mwidth\u001b[0m\u001b[0;34m,\u001b[0m \u001b[0mheight\u001b[0m\u001b[0;34m)\u001b[0m\u001b[0;34m)\u001b[0m\u001b[0;34m\u001b[0m\u001b[0;34m\u001b[0m\u001b[0m\n\u001b[0m\u001b[1;32m      9\u001b[0m     \u001b[0;32mreturn\u001b[0m \u001b[0mresized_image\u001b[0m\u001b[0;34m\u001b[0m\u001b[0;34m\u001b[0m\u001b[0m\n\u001b[1;32m     10\u001b[0m \u001b[0;34m\u001b[0m\u001b[0m\n",
            "\u001b[0;31merror\u001b[0m: OpenCV(4.7.0) /io/opencv/modules/imgproc/src/resize.cpp:4062: error: (-215:Assertion failed) !ssize.empty() in function 'resize'\n"
          ]
        }
      ],
      "source": [
        "#Cambio de tamaño de imagen:\n",
        "\n",
        "import cv2\n",
        "from google.colab import files\n",
        "uploaded = files.upload ()\n",
        "\n",
        "def resize_image(image, width, height):\n",
        "    resized_image = cv2.resize(image, (width, height))\n",
        "    return resized_image\n",
        "\n",
        "# Ejemplo de uso\n",
        "image = cv2.imread('imagen.jpg')\n",
        "resized_image = resize_image(image, 800, 600)\n",
        "cv2.imshow('Resized Image', resized_image)\n",
        "cv2.waitKey(0)\n",
        "cv2.destroyAllWindows()"
      ]
    },
    {
      "cell_type": "code",
      "source": [
        "!pwd"
      ],
      "metadata": {
        "colab": {
          "base_uri": "https://localhost:8080/"
        },
        "id": "o5-fSaePQqs3",
        "outputId": "63d03362-4f57-4914-c240-bbc9fac36f1c"
      },
      "execution_count": 2,
      "outputs": [
        {
          "output_type": "stream",
          "name": "stdout",
          "text": [
            "/content\n"
          ]
        }
      ]
    },
    {
      "cell_type": "code",
      "source": [
        "import zipfile\n",
        "import io\n",
        "data = zipfile.ZipFile(io.BytesIO(uploaded[\"arañas_venenosas.zip\"]),\"r\")\n",
        "data = data.extractall()\n"
      ],
      "metadata": {
        "id": "c5wf_Ry6WdCi"
      },
      "execution_count": 4,
      "outputs": []
    },
    {
      "cell_type": "markdown",
      "source": [
        "#Aplicación de filtro Gaussiano"
      ],
      "metadata": {
        "id": "GlYND7nwCnJB"
      }
    },
    {
      "cell_type": "code",
      "source": [
        "#Aplicación de filtro Gaussiano:\n",
        "\n",
        "import cv2\n",
        "\n",
        "def apply_gaussian_blur(image, kernel_size):\n",
        "    blurred_image = cv2.GaussianBlur(image, (kernel_size, kernel_size), 0)\n",
        "    return blurred_image\n",
        "\n",
        "# Ejemplo de uso\n",
        "image = cv2.imread('imagen.jpg')\n",
        "blurred_image = apply_gaussian_blur(image, 5)\n",
        "cv2.imshow('Blurred Image', blurred_image)\n",
        "cv2.waitKey(0)\n",
        "cv2.destroyAllWindows()"
      ],
      "metadata": {
        "id": "K3OnhEln8gtp"
      },
      "execution_count": null,
      "outputs": []
    },
    {
      "cell_type": "markdown",
      "source": [
        "#Conversión a diferentes espacios de color"
      ],
      "metadata": {
        "id": "AzxKzYrKAj7D"
      }
    },
    {
      "cell_type": "code",
      "source": [
        "import cv2\n",
        "import numpy as np\n",
        "import matplotlib.pyplot as plt\n",
        "\n",
        "# Cargar la imagen en escala de grises\n",
        "image = cv2.imread('imagen.jpg', 0)\n",
        "\n",
        "# Calcular el histograma\n",
        "histogram = cv2.calcHist([image], [0], None, [256], [0, 256])\n",
        "\n",
        "# Mostrar el histograma\n",
        "plt.plot(histogram)\n",
        "plt.title('Histograma de la imagen')\n",
        "plt.xlabel('Valor de píxel')\n",
        "plt.ylabel('Frecuencia')\n",
        "plt.show()\n"
      ],
      "metadata": {
        "id": "E22qd-4PGxKQ"
      },
      "execution_count": null,
      "outputs": []
    },
    {
      "cell_type": "markdown",
      "source": [
        "#Características de contorno utilizando el algoritmo de contorno de Canny en OpenCV en Python:"
      ],
      "metadata": {
        "id": "gsSSRZlh_zfL"
      }
    },
    {
      "cell_type": "code",
      "source": [
        "import cv2\n",
        "import matplotlib.pyplot as plt\n",
        "\n",
        "# Cargar la imagen en escala de grises\n",
        "image = cv2.imread('imagen.jpg', 0)\n",
        "\n",
        "# Aplicar el algoritmo de Canny para detectar los contornos\n",
        "edges = cv2.Canny(image, 100, 200)\n",
        "\n",
        "# Mostrar la imagen con los contornos detectados\n",
        "plt.imshow(edges, cmap='gray')\n",
        "plt.title('Contornos detectados')\n",
        "plt.axis('off')\n",
        "plt.show()\n"
      ],
      "metadata": {
        "id": "bSyd1YTPI9XY"
      },
      "execution_count": null,
      "outputs": []
    },
    {
      "cell_type": "markdown",
      "source": [
        "#Histograma de una imagen utilizando OpenCV en Python:"
      ],
      "metadata": {
        "id": "p1kfySLhDF6v"
      }
    },
    {
      "cell_type": "code",
      "source": [
        "import cv2\n",
        "import numpy as np\n",
        "import matplotlib.pyplot as plt\n",
        "\n",
        "# Cargar la imagen en escala de grises\n",
        "image = cv2.imread('imagen.jpg', 0)\n",
        "\n",
        "# Calcular el histograma\n",
        "histogram = cv2.calcHist([image], [0], None, [256], [0, 256])\n",
        "\n",
        "# Mostrar el histograma\n",
        "plt.plot(histogram)\n",
        "plt.title('Histograma de la imagen')\n",
        "plt.xlabel('Valor de píxel')\n",
        "plt.ylabel('Frecuencia')\n",
        "plt.show()\n"
      ],
      "metadata": {
        "id": "aMDhx33XDb4m"
      },
      "execution_count": null,
      "outputs": []
    },
    {
      "cell_type": "markdown",
      "source": [
        "En estos ejemplos, 'imagen.jpg' debe reemplazarse con la ruta de la imagen que se desee procesar. Los códigos muestran los resultados en ventanas de visualización y esperan a que se presione una tecla antes de cerrarse. Estos son solo ejemplos básicos y se pueden personalizar según las necesidades específicas, como ajustar los parámetros de los filtros, agregar más transformaciones, etc."
      ],
      "metadata": {
        "id": "po3gVkEODAVk"
      }
    },
    {
      "cell_type": "markdown",
      "source": [
        "#Clasificación de imágenes utilizando redes neuronales convolucionales (CNN) con TensorFlow y Keras en Python:"
      ],
      "metadata": {
        "id": "63WhPuYLEN6H"
      }
    },
    {
      "cell_type": "code",
      "source": [
        "import tensorflow as tf\n",
        "from tensorflow import keras\n",
        "\n",
        "# Cargar y preparar los datos de entrenamiento y prueba (ejemplo con MNIST)\n",
        "(x_train, y_train), (x_test, y_test) = keras.datasets.mnist.load_data()\n",
        "x_train = x_train.reshape(-1, 28, 28, 1).astype('float32') / 255.0\n",
        "x_test = x_test.reshape(-1, 28, 28, 1).astype('float32') / 255.0\n",
        "y_train = keras.utils.to_categorical(y_train)\n",
        "y_test = keras.utils.to_categorical(y_test)\n",
        "\n",
        "# Definir el modelo de la red neuronal convolucional\n",
        "model = keras.models.Sequential([\n",
        "    keras.layers.Conv2D(32, (3, 3), activation='relu', input_shape=(28, 28, 1)),\n",
        "    keras.layers.MaxPooling2D((2, 2)),\n",
        "    keras.layers.Flatten(),\n",
        "    keras.layers.Dense(10, activation='softmax')\n",
        "])\n",
        "\n",
        "# Compilar y entrenar el modelo\n",
        "model.compile(optimizer='adam', loss='categorical_crossentropy', metrics=['accuracy'])\n",
        "model.fit(x_train, y_train, epochs=10, batch_size=32, validation_data=(x_test, y_test))\n"
      ],
      "metadata": {
        "id": "fR2Nv-XfNRTS"
      },
      "execution_count": null,
      "outputs": []
    },
    {
      "cell_type": "markdown",
      "source": [
        "#Detección de objetos utilizando el framework de detección de objetos de TensorFlow en Python:"
      ],
      "metadata": {
        "id": "-Hrdd2I9Ep97"
      }
    },
    {
      "cell_type": "code",
      "source": [
        "import tensorflow as tf\n",
        "from object_detection.utils import label_map_util\n",
        "from object_detection.utils import visualization_utils as vis_util\n",
        "\n",
        "# Cargar el modelo pre-entrenado y el archivo de etiquetas\n",
        "model_path = 'path/al/modelo/frozen_inference_graph.pb'\n",
        "label_map_path = 'path/al/archivo/de/etiquetas.pbtxt'\n",
        "\n",
        "detection_graph = tf.Graph()\n",
        "with detection_graph.as_default():\n",
        "    od_graph_def = tf.GraphDef()\n",
        "    with tf.gfile.GFile(model_path, 'rb') as fid:\n",
        "        serialized_graph = fid.read()\n",
        "        od_graph_def.ParseFromString(serialized_graph)\n",
        "        tf.import_graph_def(od_graph_def, name='')\n",
        "\n",
        "label_map = label_map_util.load_labelmap(label_map_path)\n",
        "categories = label_map_util.convert_label_map_to_categories(label_map, max_num_classes=90, use_display_name=True)\n",
        "category_index = label_map_util.create_category_index(categories)\n",
        "\n",
        "# Preparar la imagen de entrada\n",
        "image = cv2.imread('imagen.jpg')\n",
        "image_expanded = np.expand_dims(image, axis=0)\n",
        "\n",
        "# Realizar la detección de objetos\n",
        "with detection_graph.as_default():\n",
        "    with tf.Session(graph=detection_graph) as sess:\n",
        "        # Obtener los tensores de entrada y salida\n",
        "        image_tensor = detection_graph.get_tensor_by_name('image_tensor:0')\n",
        "        detection_boxes = detection_graph.get_tensor_by_name('detection_boxes:0')\n",
        "        detection_scores = detection_graph.get_tensor_by_name('detection_scores:0')\n",
        "        detection_classes = detection_graph.get_tensor_by_name('detection_classes:0')\n",
        "        num_detections = detection_graph.get_tensor_by_name('num_detections:0')\n",
        "\n",
        "        # Realizar la detección\n",
        "        (boxes, scores, classes, num) = sess.run([detection_boxes, detection_scores, detection_classes, num_detections],\n",
        "                                                 feed_dict={image_tensor: image_expanded})\n",
        "\n",
        "        # Visualizar los resultados\n",
        "        vis_util.visualize_boxes_and_labels_on_image_array(image, np.squeeze(boxes), np.squeeze(classes).astype(np.int32),\n",
        "                                                           np.squeeze(scores), category_index, use_normalized_coordinates=True,\n",
        "                                                           line_thickness=8)\n",
        "\n",
        "        # Mostrar la imagen con los objetos detectados\n",
        "        cv2.imshow('Detected Objects', image)\n",
        "        cv2.waitKey(0)\n",
        "        cv2.destroyAllWindows()\n"
      ],
      "metadata": {
        "id": "8NaAQWcXON6E"
      },
      "execution_count": null,
      "outputs": []
    },
    {
      "cell_type": "markdown",
      "source": [
        "#Interfaz gráfica de usuario utilizando Tkinter en Python:"
      ],
      "metadata": {
        "id": "wQHC0ElcE7VP"
      }
    },
    {
      "cell_type": "markdown",
      "source": [],
      "metadata": {
        "id": "1Qz8EiipFCr-"
      }
    },
    {
      "cell_type": "code",
      "source": [
        "import tkinter as tk\n",
        "from PIL import Image, ImageTk\n",
        "\n",
        "def cargar_imagen():\n",
        "    # Abrir una ventana de diálogo para seleccionar un archivo de imagen\n",
        "    filepath = tk.filedialog.askopenfilename(filetypes=[('Imágenes', '*.jpg;*.png;*.jpeg')])\n",
        "\n",
        "    # Cargar la imagen seleccionada\n",
        "    image = Image.open(filepath)\n",
        "\n",
        "    # Mostrar la imagen en el lienzo\n",
        "    img_label.configure(image=image)\n",
        "    img_label.image = image\n",
        "\n",
        "def aplicar_tecnica():\n",
        "    # Aplicar la técnica de procesamiento a la imagen\n",
        "\n",
        "    # Mostrar los resultados en el lienzo\n",
        "    ...\n",
        "\n",
        "# Crear la ventana principal\n",
        "window = tk.Tk()\n",
        "window.title('Aplicación de Procesamiento de Imágenes')\n",
        "\n",
        "# Crear un lienzo para mostrar la imagen\n",
        "img_label = tk.Label(window)\n",
        "img_label.pack()\n",
        "\n",
        "# Crear un botón para cargar la imagen\n",
        "load_button = tk.Button(window, text='Cargar Imagen', command=cargar_imagen)\n",
        "load_button.pack()\n",
        "\n",
        "# Crear un botón para aplicar la técnica de procesamiento\n",
        "process_button = tk.Button(window, text='Aplicar Técnica', command=aplicar_tecnica)\n",
        "process_button.pack()\n",
        "\n",
        "# Ejecutar el bucle principal de la interfaz de usuario\n",
        "window.mainloop()\n"
      ],
      "metadata": {
        "id": "9-ZvmO84RgDd"
      },
      "execution_count": null,
      "outputs": []
    },
    {
      "cell_type": "markdown",
      "source": [
        "Interfaz gráfica de usuario utilizando PyQt en Python:"
      ],
      "metadata": {
        "id": "VIIrcYIwFZqk"
      }
    },
    {
      "cell_type": "code",
      "source": [],
      "metadata": {
        "id": "2teJWj99Fjno"
      },
      "execution_count": null,
      "outputs": []
    },
    {
      "cell_type": "code",
      "source": [
        "import sys\n",
        "from PyQt5.QtWidgets import QApplication, QMainWindow, QLabel, QPushButton, QVBoxLayout, QWidget, QFileDialog\n",
        "from PyQt5.QtGui import QPixmap\n",
        "\n",
        "class MainWindow(QMainWindow):\n",
        "    def __init__(self):\n",
        "        super().__init__()\n",
        "        self.setWindowTitle('Aplicación de Procesamiento de Imágenes')\n",
        "\n",
        "        # Crear un lienzo para mostrar la imagen\n",
        "        self.img_label = QLabel(self)\n",
        "        self.img_label.setPixmap(QPixmap('default_image.png'))  # Imagen por defecto\n",
        "        self.img_label.setScaledContents(True)\n",
        "\n",
        "        # Crear un botón para cargar la imagen\n",
        "        load_button = QPushButton('Cargar Imagen', self)\n",
        "        load_button.clicked.connect(self.cargar_imagen)\n",
        "\n",
        "        # Crear un botón para aplicar la técnica de procesamiento\n",
        "        process_button = QPushButton('Aplicar Técnica', self)\n",
        "        process_button.clicked.connect(self.aplicar_tecnica)\n",
        "\n",
        "        # Crear un diseño vertical y agregar los elementos\n",
        "        layout = QVBoxLayout()\n",
        "        layout.addWidget(self.img_label)\n",
        "        layout.addWidget(load_button)\n",
        "        layout.addWidget(process_button)\n",
        "\n",
        "        # Crear un widget central y establecer el diseño\n",
        "        central_widget = QWidget()\n",
        "        central_widget.setLayout(layout)\n",
        "        self.setCentralWidget(central_widget)\n",
        "\n",
        "    def cargar_imagen(self):\n",
        "        # Abrir una ventana de diálogo para seleccionar un archivo de imagen\n",
        "        filepath, _ = QFileDialog.getOpenFileName(self, 'Cargar Imagen', '', 'Imágenes (*.jpg *.png *.jpeg)')\n",
        "\n",
        "        # Cargar la imagen seleccionada\n",
        "        image = QPixmap(filepath)\n",
        "\n",
        "        # Mostrar la imagen en el lienzo\n",
        "        self.img_label.setPixmap(image)\n",
        "\n",
        "    def aplicar_tecnica(self):\n",
        "        # Aplicar la técnica de procesamiento a la imagen\n",
        "\n",
        "        # Mostrar los resultados en el lienzo\n",
        "        ...\n",
        "\n",
        "if __name__ == '__main__':\n",
        "    app = QApplication(sys.argv)\n",
        "    window = MainWindow()\n",
        "    window.show()\n",
        "    sys.exit(app.exec_())\n"
      ],
      "metadata": {
        "id": "cWbSq5STSI8G"
      },
      "execution_count": null,
      "outputs": []
    }
  ]
}